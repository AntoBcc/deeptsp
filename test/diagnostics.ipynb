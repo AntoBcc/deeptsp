{
 "cells": [
  {
   "cell_type": "code",
   "execution_count": 1,
   "metadata": {},
   "outputs": [],
   "source": [
    "import os\n",
    "from sklearn.metrics import f1_score, recall_score, precision_score\n",
    "import sys\n",
    "import numpy as np\n",
    "import torch\n",
    "import matplotlib.pyplot as plt\n",
    "import pandas as pd\n",
    "\n",
    "sys.path.append('../src')\n",
    "import BP"
   ]
  },
  {
   "cell_type": "code",
   "execution_count": 2,
   "metadata": {},
   "outputs": [],
   "source": [
    "'''UTILS'''\n",
    "\n",
    "def decode_TSP(path):\n",
    "    \n",
    "    '''\n",
    "    return configuration from path\n",
    "    \n",
    "    path:: a list of numbers (string format), representing an optimal TSP path\n",
    "    '''\n",
    "    \n",
    "    num_nodes = int(len(path)-1)\n",
    "    \n",
    "    edges = [(int(i)-1,int(j)-1) for i,j in zip(path,path[1:])]\n",
    "    \n",
    "    n = np.zeros((num_nodes,num_nodes))\n",
    "    \n",
    "    for edge in edges:\n",
    "        n[edge] = 1\n",
    "        \n",
    "    return n\n",
    "\n",
    "\n",
    "def cost_of_TSP(graph,path):\n",
    "    '''\n",
    "    returns cost of TSP path\n",
    "    '''\n",
    "    tsp = torch.tensor(decode_TSP(path))\n",
    "    \n",
    "    w = BP.cost_matrix(graph)\n",
    "    \n",
    "    cost = torch.sum(torch.masked_select(w,tsp==1),dtype=float)\n",
    "    return np.int(cost)\n",
    "\n",
    "\n",
    "def read_concorde_data(path,n_samples=None):\n",
    "    \n",
    "    data = open(path, \"r\").readlines()\n",
    "    \n",
    "    if not n_samples: n_samples = len(data)\n",
    "    \n",
    "    graphs = [data[i][:data[i].index('output')].split() for i in range(n_samples)]\n",
    "    paths = [data[i][data[i].index('output')+6:].split() for i in range(n_samples)]\n",
    "    costs = [cost_of_TSP(g,p) for g,p in zip(graphs,paths)]\n",
    "    tsp_paths = [decode_TSP(i) for i in paths]\n",
    "    \n",
    "    assert np.all([len(paths[i]) - 1 == len(graphs[i])/2 for i in range(n_samples)]) == 1\n",
    "    \n",
    "    return graphs, tsp_paths, costs\n",
    "\n",
    "def compute_metrics(true,pred):\n",
    "    \n",
    "    '''\n",
    "    return average precision, recall and f1\n",
    "    \n",
    "    true:: list of array-like objects, true labels\n",
    "    pred:: list of array-like objects, \"predicted\" labels (from weighted 2-matching)\n",
    "    '''\n",
    "    \n",
    "    metrics = []\n",
    "    for i,j in zip(true,pred):\n",
    "        metrics.append([precision_score(i,j),recall_score(i,j),f1_score(i,j)])\n",
    "    metrics = np.array(metrics)\n",
    "    \n",
    "    return np.around(np.mean(metrics,axis=0),decimals=2)"
   ]
  },
  {
   "cell_type": "code",
   "execution_count": 3,
   "metadata": {},
   "outputs": [],
   "source": [
    "data_dir = '../tsp30-50'\n",
    "f_name = 'tsp30-50_train'\n",
    "file = f'{f_name}.txt'\n",
    "path = os.path.join(data_dir,file)\n",
    "\n",
    "graphs,tsp_paths,costs = read_concorde_data(path)"
   ]
  },
  {
   "cell_type": "code",
   "execution_count": 4,
   "metadata": {},
   "outputs": [
    {
     "name": "stdout",
     "output_type": "stream",
     "text": [
      "10000\n"
     ]
    }
   ],
   "source": [
    "print(len(graphs))"
   ]
  },
  {
   "cell_type": "code",
   "execution_count": 5,
   "metadata": {},
   "outputs": [],
   "source": [
    "#sanity check\n",
    "matchings = f'../out/BPmatch/tsp30-50_train_match.pt'\n",
    "t = torch.load(matchings)\n",
    "assert len(t) == len(graphs)"
   ]
  },
  {
   "cell_type": "markdown",
   "metadata": {},
   "source": [
    "## DIAGNOSTICS"
   ]
  },
  {
   "cell_type": "code",
   "execution_count": 6,
   "metadata": {},
   "outputs": [
    {
     "data": {
      "text/plain": [
       "{'BASE': '../out/BPmatch/tsp30-50_train_match.txt',\n",
       " 'DAMP': '../out/BPmatch_damp/tsp30-50_train_match.txt',\n",
       " 'BAYATI': '../out/BPmatch_bayati/tsp30-50_train_match.txt',\n",
       " 'BAYATI-4': '../out/BPmatch_bayati_4/tsp30-50_train_match.txt'}"
      ]
     },
     "execution_count": 6,
     "metadata": {},
     "output_type": "execute_result"
    }
   ],
   "source": [
    "match_dir = '../out'\n",
    "\n",
    "keys = ['BASE','DAMP','BAYATI','BAYATI-4']\n",
    "ids = ['','_damp','_bayati','_bayati_4']\n",
    "vals = [os.path.join(match_dir,f'BPmatch{i}','tsp30-50_train_match.txt') for i in ids]\n",
    "\n",
    "experiments = {k:v for k,v in zip(keys,vals)}\n",
    "\n",
    "experiments"
   ]
  },
  {
   "cell_type": "code",
   "execution_count": 7,
   "metadata": {},
   "outputs": [
    {
     "name": "stdout",
     "output_type": "stream",
     "text": [
      "BASE : max_iter=1000, thresh=10, d=0, b=2, rand_init=0, seed=0\n",
      "\n",
      "DAMP : max_iter=1000, thresh=10, d=0.5, b=2, rand_init=0, seed=0\n",
      "\n",
      "BAYATI : max_iter=1000, thresh=10, d=0, b=2, rand_init=0, seed=0\n",
      "\n",
      "BAYATI-4 : max_iter=1000, thresh=10, d=0, b=4, rand_init=0, seed=0\n",
      "\n"
     ]
    }
   ],
   "source": [
    "for k,v in experiments.items():\n",
    "    print(k,':', open(v, \"r\").readlines()[0]) "
   ]
  },
  {
   "cell_type": "code",
   "execution_count": 8,
   "metadata": {},
   "outputs": [
    {
     "data": {
      "text/html": [
       "<div>\n",
       "<style scoped>\n",
       "    .dataframe tbody tr th:only-of-type {\n",
       "        vertical-align: middle;\n",
       "    }\n",
       "\n",
       "    .dataframe tbody tr th {\n",
       "        vertical-align: top;\n",
       "    }\n",
       "\n",
       "    .dataframe thead th {\n",
       "        text-align: right;\n",
       "    }\n",
       "</style>\n",
       "<table border=\"1\" class=\"dataframe\">\n",
       "  <thead>\n",
       "    <tr style=\"text-align: right;\">\n",
       "      <th></th>\n",
       "      <th>cost_of_matching</th>\n",
       "      <th>n_violations</th>\n",
       "      <th>converged</th>\n",
       "      <th>ID</th>\n",
       "      <th>gap</th>\n",
       "      <th>nodes</th>\n",
       "      <th>rel_violations</th>\n",
       "    </tr>\n",
       "  </thead>\n",
       "  <tbody>\n",
       "    <tr>\n",
       "      <th>0</th>\n",
       "      <td>0</td>\n",
       "      <td>78</td>\n",
       "      <td>False</td>\n",
       "      <td>BASE</td>\n",
       "      <td>-1.00</td>\n",
       "      <td>45</td>\n",
       "      <td>0.866667</td>\n",
       "    </tr>\n",
       "    <tr>\n",
       "      <th>1</th>\n",
       "      <td>1</td>\n",
       "      <td>36</td>\n",
       "      <td>False</td>\n",
       "      <td>BASE</td>\n",
       "      <td>-0.80</td>\n",
       "      <td>32</td>\n",
       "      <td>0.562500</td>\n",
       "    </tr>\n",
       "    <tr>\n",
       "      <th>2</th>\n",
       "      <td>2</td>\n",
       "      <td>82</td>\n",
       "      <td>False</td>\n",
       "      <td>BASE</td>\n",
       "      <td>-0.60</td>\n",
       "      <td>49</td>\n",
       "      <td>0.836735</td>\n",
       "    </tr>\n",
       "    <tr>\n",
       "      <th>3</th>\n",
       "      <td>1</td>\n",
       "      <td>52</td>\n",
       "      <td>False</td>\n",
       "      <td>BASE</td>\n",
       "      <td>-0.75</td>\n",
       "      <td>36</td>\n",
       "      <td>0.722222</td>\n",
       "    </tr>\n",
       "    <tr>\n",
       "      <th>4</th>\n",
       "      <td>1</td>\n",
       "      <td>56</td>\n",
       "      <td>False</td>\n",
       "      <td>BASE</td>\n",
       "      <td>-0.80</td>\n",
       "      <td>38</td>\n",
       "      <td>0.736842</td>\n",
       "    </tr>\n",
       "  </tbody>\n",
       "</table>\n",
       "</div>"
      ],
      "text/plain": [
       "   cost_of_matching  n_violations  converged    ID   gap  nodes  \\\n",
       "0                 0            78      False  BASE -1.00     45   \n",
       "1                 1            36      False  BASE -0.80     32   \n",
       "2                 2            82      False  BASE -0.60     49   \n",
       "3                 1            52      False  BASE -0.75     36   \n",
       "4                 1            56      False  BASE -0.80     38   \n",
       "\n",
       "   rel_violations  \n",
       "0        0.866667  \n",
       "1        0.562500  \n",
       "2        0.836735  \n",
       "3        0.722222  \n",
       "4        0.736842  "
      ]
     },
     "execution_count": 8,
     "metadata": {},
     "output_type": "execute_result"
    }
   ],
   "source": [
    "dfs = []\n",
    "for k,v, in experiments.items():\n",
    "    temp = pd.read_csv(v, sep=\" \",skiprows=1)\n",
    "    temp['ID'] = k\n",
    "    dfs.append(temp)\n",
    "    temp['gap'] = (temp.cost_of_matching - costs) / costs\n",
    "    temp['nodes'] = [len(i) for i in tsp_paths]\n",
    "    temp['rel_violations'] = temp.n_violations / (temp.nodes*2)\n",
    "df = pd.concat(dfs)\n",
    "df.head()"
   ]
  },
  {
   "cell_type": "code",
   "execution_count": 9,
   "metadata": {},
   "outputs": [
    {
     "name": "stdout",
     "output_type": "stream",
     "text": [
      "['BASE' 'DAMP' 'BAYATI' 'BAYATI-4']\n",
      "40000\n"
     ]
    }
   ],
   "source": [
    "print(df['ID'].unique())\n",
    "print(len(df))"
   ]
  },
  {
   "cell_type": "code",
   "execution_count": 10,
   "metadata": {},
   "outputs": [
    {
     "data": {
      "text/html": [
       "<div>\n",
       "<style scoped>\n",
       "    .dataframe tbody tr th:only-of-type {\n",
       "        vertical-align: middle;\n",
       "    }\n",
       "\n",
       "    .dataframe tbody tr th {\n",
       "        vertical-align: top;\n",
       "    }\n",
       "\n",
       "    .dataframe thead th {\n",
       "        text-align: right;\n",
       "    }\n",
       "</style>\n",
       "<table border=\"1\" class=\"dataframe\">\n",
       "  <thead>\n",
       "    <tr style=\"text-align: right;\">\n",
       "      <th></th>\n",
       "      <th>rel_violations</th>\n",
       "      <th>converged</th>\n",
       "      <th>gap</th>\n",
       "    </tr>\n",
       "    <tr>\n",
       "      <th>ID</th>\n",
       "      <th></th>\n",
       "      <th></th>\n",
       "      <th></th>\n",
       "    </tr>\n",
       "  </thead>\n",
       "  <tbody>\n",
       "    <tr>\n",
       "      <th>BASE</th>\n",
       "      <td>0.782357</td>\n",
       "      <td>0.1534</td>\n",
       "      <td>-0.386418</td>\n",
       "    </tr>\n",
       "    <tr>\n",
       "      <th>BAYATI</th>\n",
       "      <td>0.066805</td>\n",
       "      <td>0.1647</td>\n",
       "      <td>1.059747</td>\n",
       "    </tr>\n",
       "    <tr>\n",
       "      <th>BAYATI-4</th>\n",
       "      <td>1.000000</td>\n",
       "      <td>0.0439</td>\n",
       "      <td>5.828032</td>\n",
       "    </tr>\n",
       "    <tr>\n",
       "      <th>DAMP</th>\n",
       "      <td>0.075188</td>\n",
       "      <td>0.3695</td>\n",
       "      <td>0.888828</td>\n",
       "    </tr>\n",
       "  </tbody>\n",
       "</table>\n",
       "</div>"
      ],
      "text/plain": [
       "          rel_violations  converged       gap\n",
       "ID                                           \n",
       "BASE            0.782357     0.1534 -0.386418\n",
       "BAYATI          0.066805     0.1647  1.059747\n",
       "BAYATI-4        1.000000     0.0439  5.828032\n",
       "DAMP            0.075188     0.3695  0.888828"
      ]
     },
     "execution_count": 10,
     "metadata": {},
     "output_type": "execute_result"
    }
   ],
   "source": [
    "df.groupby('ID').agg({'rel_violations': 'mean',\n",
    "                         'converged' : lambda x: x.sum() / 10000,\n",
    "                    'gap': 'mean'})"
   ]
  },
  {
   "cell_type": "markdown",
   "metadata": {},
   "source": [
    "## TSP OVERLAP"
   ]
  },
  {
   "cell_type": "code",
   "execution_count": 218,
   "metadata": {},
   "outputs": [
    {
     "data": {
      "text/plain": [
       "['BASE', 'DAMP', 'BAYATI', 'BAYATI-4']"
      ]
     },
     "execution_count": 218,
     "metadata": {},
     "output_type": "execute_result"
    }
   ],
   "source": [
    "matchings = [os.path.join(match_dir,f'BPmatch{i}','tsp30-50_train_match.pt') for i in ids]"
   ]
  },
  {
   "cell_type": "code",
   "execution_count": 209,
   "metadata": {},
   "outputs": [],
   "source": [
    "bp_vals = [torch.load(i) for i in matchings]\n",
    "bp_vals = [[t[i].flatten() for i in range(len(t))] for t in bp_vals]"
   ]
  },
  {
   "cell_type": "code",
   "execution_count": 28,
   "metadata": {},
   "outputs": [],
   "source": [
    "tsp_paths = [i.ravel() for i in tsp_paths] #temporary patch, not elegant"
   ]
  },
  {
   "cell_type": "code",
   "execution_count": 232,
   "metadata": {},
   "outputs": [],
   "source": [
    "bp_dict = {k:v for k,v in zip(keys,bp_vals)}"
   ]
  },
  {
   "cell_type": "code",
   "execution_count": 226,
   "metadata": {},
   "outputs": [],
   "source": [
    "metrics_dict = {}\n",
    "for i,j in zip(keys,bp_dict.values()):\n",
    "    metrics_dict[i] = compute_metrics(tsp_paths,j)"
   ]
  },
  {
   "cell_type": "code",
   "execution_count": 227,
   "metadata": {},
   "outputs": [
    {
     "data": {
      "text/plain": [
       "{'BASE': array([0.16, 0.31, 0.2 ]),\n",
       " 'DAMP': array([0.38, 0.73, 0.5 ]),\n",
       " 'BAYATI': array([0.36, 0.75, 0.49]),\n",
       " 'BAYATI-4': array([0.2 , 0.97, 0.33])}"
      ]
     },
     "execution_count": 227,
     "metadata": {},
     "output_type": "execute_result"
    }
   ],
   "source": [
    "metrics_dict #precision (on 1), recall (on 1), f1_score "
   ]
  },
  {
   "cell_type": "code",
   "execution_count": null,
   "metadata": {},
   "outputs": [],
   "source": []
  },
  {
   "cell_type": "code",
   "execution_count": 20,
   "metadata": {},
   "outputs": [],
   "source": [
    "final_bp = os.path.join(match_dir,'BPmatch_damp_bayati','tsp30-50_train_match.pt')"
   ]
  },
  {
   "cell_type": "code",
   "execution_count": 21,
   "metadata": {},
   "outputs": [],
   "source": [
    "final_bp = torch.load(final_bp)"
   ]
  },
  {
   "cell_type": "code",
   "execution_count": 23,
   "metadata": {},
   "outputs": [],
   "source": [
    "final_bp = [i.flatten() for i in final_bp]"
   ]
  },
  {
   "cell_type": "code",
   "execution_count": 30,
   "metadata": {},
   "outputs": [
    {
     "data": {
      "text/plain": [
       "array([0.37, 0.75, 0.49])"
      ]
     },
     "execution_count": 30,
     "metadata": {},
     "output_type": "execute_result"
    }
   ],
   "source": [
    "compute_metrics(tsp_paths,final_bp)"
   ]
  },
  {
   "cell_type": "code",
   "execution_count": 32,
   "metadata": {},
   "outputs": [],
   "source": [
    "final_txt = os.path.join(match_dir,'BPmatch_damp_bayati','tsp30-50_train_match.txt')"
   ]
  },
  {
   "cell_type": "code",
   "execution_count": 33,
   "metadata": {},
   "outputs": [],
   "source": [
    "df = pd.read_csv(final_txt, sep=\" \",skiprows=1)\n",
    "df['gap'] = (df.cost_of_matching - costs) / costs\n",
    "df['nodes'] = [len(i) for i in tsp_paths]\n",
    "df['rel_violations'] = df.n_violations / (df.nodes*2)"
   ]
  },
  {
   "cell_type": "code",
   "execution_count": 34,
   "metadata": {},
   "outputs": [
    {
     "data": {
      "text/html": [
       "<div>\n",
       "<style scoped>\n",
       "    .dataframe tbody tr th:only-of-type {\n",
       "        vertical-align: middle;\n",
       "    }\n",
       "\n",
       "    .dataframe tbody tr th {\n",
       "        vertical-align: top;\n",
       "    }\n",
       "\n",
       "    .dataframe thead th {\n",
       "        text-align: right;\n",
       "    }\n",
       "</style>\n",
       "<table border=\"1\" class=\"dataframe\">\n",
       "  <thead>\n",
       "    <tr style=\"text-align: right;\">\n",
       "      <th></th>\n",
       "      <th>cost_of_matching</th>\n",
       "      <th>n_violations</th>\n",
       "      <th>converged</th>\n",
       "      <th>gap</th>\n",
       "      <th>nodes</th>\n",
       "      <th>rel_violations</th>\n",
       "    </tr>\n",
       "  </thead>\n",
       "  <tbody>\n",
       "    <tr>\n",
       "      <th>0</th>\n",
       "      <td>11</td>\n",
       "      <td>12</td>\n",
       "      <td>False</td>\n",
       "      <td>1.2</td>\n",
       "      <td>2025</td>\n",
       "      <td>0.002963</td>\n",
       "    </tr>\n",
       "    <tr>\n",
       "      <th>1</th>\n",
       "      <td>9</td>\n",
       "      <td>4</td>\n",
       "      <td>True</td>\n",
       "      <td>0.8</td>\n",
       "      <td>1024</td>\n",
       "      <td>0.001953</td>\n",
       "    </tr>\n",
       "    <tr>\n",
       "      <th>2</th>\n",
       "      <td>10</td>\n",
       "      <td>8</td>\n",
       "      <td>False</td>\n",
       "      <td>1.0</td>\n",
       "      <td>2401</td>\n",
       "      <td>0.001666</td>\n",
       "    </tr>\n",
       "    <tr>\n",
       "      <th>3</th>\n",
       "      <td>8</td>\n",
       "      <td>4</td>\n",
       "      <td>False</td>\n",
       "      <td>1.0</td>\n",
       "      <td>1296</td>\n",
       "      <td>0.001543</td>\n",
       "    </tr>\n",
       "    <tr>\n",
       "      <th>4</th>\n",
       "      <td>10</td>\n",
       "      <td>4</td>\n",
       "      <td>False</td>\n",
       "      <td>1.0</td>\n",
       "      <td>1444</td>\n",
       "      <td>0.001385</td>\n",
       "    </tr>\n",
       "  </tbody>\n",
       "</table>\n",
       "</div>"
      ],
      "text/plain": [
       "   cost_of_matching  n_violations  converged  gap  nodes  rel_violations\n",
       "0                11            12      False  1.2   2025        0.002963\n",
       "1                 9             4       True  0.8   1024        0.001953\n",
       "2                10             8      False  1.0   2401        0.001666\n",
       "3                 8             4      False  1.0   1296        0.001543\n",
       "4                10             4      False  1.0   1444        0.001385"
      ]
     },
     "execution_count": 34,
     "metadata": {},
     "output_type": "execute_result"
    }
   ],
   "source": [
    "df.head()"
   ]
  },
  {
   "cell_type": "code",
   "execution_count": 37,
   "metadata": {},
   "outputs": [
    {
     "data": {
      "text/plain": [
       "gap               1.041668\n",
       "rel_violations    0.001467\n",
       "dtype: float64"
      ]
     },
     "execution_count": 37,
     "metadata": {},
     "output_type": "execute_result"
    }
   ],
   "source": [
    "df[['gap','rel_violations']].mean()"
   ]
  },
  {
   "cell_type": "code",
   "execution_count": 38,
   "metadata": {},
   "outputs": [
    {
     "data": {
      "text/plain": [
       "False    0.6231\n",
       "True     0.3769\n",
       "Name: converged, dtype: float64"
      ]
     },
     "execution_count": 38,
     "metadata": {},
     "output_type": "execute_result"
    }
   ],
   "source": [
    "df['converged'].value_counts() / 10000"
   ]
  },
  {
   "cell_type": "code",
   "execution_count": null,
   "metadata": {},
   "outputs": [],
   "source": []
  }
 ],
 "metadata": {
  "kernelspec": {
   "display_name": "Python 3",
   "language": "python",
   "name": "python3"
  },
  "language_info": {
   "codemirror_mode": {
    "name": "ipython",
    "version": 3
   },
   "file_extension": ".py",
   "mimetype": "text/x-python",
   "name": "python",
   "nbconvert_exporter": "python",
   "pygments_lexer": "ipython3",
   "version": "3.8.3"
  }
 },
 "nbformat": 4,
 "nbformat_minor": 4
}
